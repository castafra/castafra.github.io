{
 "cells": [
  {
   "cell_type": "markdown",
   "metadata": {},
   "source": [
    "# Diurn.ai : The instagram page that summarizes the news\n",
    "\n",
    "   "
   ]
  },
  {
   "cell_type": "markdown",
   "metadata": {},
   "source": [
    "<img src=\"files/images/ig-showcase.png\">"
   ]
  },
  {
   "cell_type": "markdown",
   "metadata": {},
   "source": [
    "## Abstract"
   ]
  },
  {
   "cell_type": "markdown",
   "metadata": {},
   "source": [
    "In the era of internet, news are everywhere and it has become trivial to be aware of an event that has just happened at the other side of the globe. However, this huge quantity of information is received in fragments, and is poorly decrypted. As a result, it becomes hard to distinguish the import events from the lesser news. Being aware of the news almost instantly is crucial and paradoxally, with the decline of the print media, less time is taken to do so and the process often consist in reading the headlines. \n",
    "To tackle this issue, several platforms/media promise their users to send them only the important news and some even offer a daily summary. This work is done by professionals (journalist) who decide what has to be summarized. \n",
    "\n",
    "But what if this process was done automatically ? What if an algorithm was able to retrieve the hot news and condense them, assuring reliability and impartiality ? \n",
    "\n",
    "With the recent advances in the Deep Learning field, Neural Language Processing is becoming more and more powerful and accessible. The summarization task - hard for machines but also for humans - is starting to get powerful thanks to state of the art attention deep learning model. \n",
    "\n",
    "To learn more about the recents advances in NLP, I thus decided as a personal project to tackle the summarization issue by implementing an algorithm that would scrap the news and resume them in an Instagram post. Why Instagram ? Because it is a popular social network particularly used by activists which proves that beyond posting photos of cute dogs or hollidays memories, it can also be used to inform (ideally impartially).  "
   ]
  },
  {
   "cell_type": "markdown",
   "metadata": {},
   "source": [
    "## News Scrapping "
   ]
  },
  {
   "cell_type": "markdown",
   "metadata": {},
   "source": [
    "## Article summarization"
   ]
  },
  {
   "cell_type": "markdown",
   "metadata": {},
   "source": [
    "## Instagram Post Automation"
   ]
  },
  {
   "cell_type": "markdown",
   "metadata": {},
   "source": [
    "## Results and future improvements "
   ]
  }
 ],
 "metadata": {
  "kernelspec": {
   "display_name": "Python 3",
   "language": "python",
   "name": "python3"
  },
  "language_info": {
   "codemirror_mode": {
    "name": "ipython",
    "version": 3
   },
   "file_extension": ".py",
   "mimetype": "text/x-python",
   "name": "python",
   "nbconvert_exporter": "python",
   "pygments_lexer": "ipython3",
   "version": "3.7.1"
  }
 },
 "nbformat": 4,
 "nbformat_minor": 2
}
